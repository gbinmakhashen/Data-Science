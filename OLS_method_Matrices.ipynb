{
  "nbformat": 4,
  "nbformat_minor": 0,
  "metadata": {
    "colab": {
      "name": "OLS_method_Matrices.ipynb",
      "provenance": [],
      "collapsed_sections": [],
      "authorship_tag": "ABX9TyM8GFRDHkkz093z5+h5fZCk",
      "include_colab_link": true
    },
    "kernelspec": {
      "name": "python3",
      "display_name": "Python 3"
    },
    "language_info": {
      "name": "python"
    }
  },
  "cells": [
    {
      "cell_type": "markdown",
      "metadata": {
        "id": "view-in-github",
        "colab_type": "text"
      },
      "source": [
        "<a href=\"https://colab.research.google.com/github/gbinmakhashen/Data-Science/blob/main/OLS_method_Matrices.ipynb\" target=\"_parent\"><img src=\"https://colab.research.google.com/assets/colab-badge.svg\" alt=\"Open In Colab\"/></a>"
      ]
    },
    {
      "cell_type": "markdown",
      "metadata": {
        "id": "bwBPz1Fp13TP"
      },
      "source": [
        "# **Ordinary Least Squares **\n",
        "OLS Estimates $\\hat{\\beta}$ in such a way that the sum of squares of residuals is as small as possible. That is the loss function\n",
        "\n",
        "$L(\\hat{\\beta}) = \\sum^{n}_{i=1} (y_i - X' \\hat{\\beta})^2 $\n",
        "\n",
        "The OLS parameters can be estimated using the following:\n",
        " $ \\hat{\\beta}_{OLS}=(X'X)^{-1}(X'Y) $\n",
        "\n",
        "\n",
        "In the following, 2 examples are given\n",
        "1- generating random data and using random parameters\n",
        "2- use the OLS estimator to find out the hidden paramters (Regression Coeffecients)\n",
        "\n",
        "Note: the data can be genrated without noise. There are two versions below\n"
      ]
    },
    {
      "cell_type": "code",
      "metadata": {
        "id": "wzYW_ODd_F1N"
      },
      "source": [
        "# load required libraries\n",
        "import numpy as np\n",
        "import matplotlib.pyplot as plt"
      ],
      "execution_count": 3,
      "outputs": []
    },
    {
      "cell_type": "code",
      "metadata": {
        "id": "_VuX5rHB--Vi"
      },
      "source": [
        " # Generate some data\n",
        " # x: indpendent varaible\n",
        " # y: response\n",
        " \n",
        " x = np.array(np.zeros(shape=(1,3)))\n",
        " for k in range (5):\n",
        "  tmp = np.array(np.random.randint(0,50,size=3))\n",
        "  x =np.insert(x, k, np.array(tmp), 0) \n",
        "\n",
        "# remove the zeros added in the first step\n",
        "x = np.delete(x,x.shape[0]-1, 0)\n",
        "\n",
        "y = np.array(np.zeros(shape=(1,1)))\n",
        "# hidden parameters\n",
        "Bo1 = np.random.randn()\n",
        "Bo2 = np.random.randn()\n",
        "Bo3 = np.random.randn()\n",
        "idx = 0\n",
        "for xi in x:\n",
        "  # with noise\n",
        "  y = np.insert(y, idx,  xi[0] * Bo1 + xi[1] * Bo2+ xi[2] * Bo3 + np.random.randn(), 0)\n",
        "  # without noise\n",
        "  #y = np.insert(y, idx,  xi[0] * Bo1 + xi[1] * Bo2+ xi[2] * Bo3, 0)\n",
        "  idx +=1\n",
        "\n",
        "# remove the zeros added in the first step\n",
        "y = np.delete(y,y.shape[0]-1, 0)"
      ],
      "execution_count": 226,
      "outputs": []
    },
    {
      "cell_type": "code",
      "metadata": {
        "colab": {
          "base_uri": "https://localhost:8080/",
          "height": 297
        },
        "id": "E7xug9GI3d5I",
        "outputId": "629835c5-32e5-4b52-a59e-956c9517d31c"
      },
      "source": [
        "# Visualize the data\n",
        "i = 1\n",
        "plt.figure(figsize=(15,4))\n",
        "for xi in x.T:\n",
        "    plt.subplot(1,3,i) \n",
        "    plt.scatter(xi, y)\n",
        "    plt.xlabel('X')\n",
        "    plt.ylabel('Y')\n",
        "    plt.title('Feature('+str(i) +')')\n",
        "    i +=1\n",
        "plt.tight_layout()\n"
      ],
      "execution_count": 224,
      "outputs": [
        {
          "output_type": "display_data",
          "data": {
            "image/png": "[encoded data removed]",
            "text/plain": [
              "<Figure size 1080x288 with 3 Axes>"
            ]
          },
          "metadata": {
            "tags": [],
            "needs_background": "light"
          }
        }
      ]
    },
    {
      "cell_type": "code",
      "metadata": {
        "colab": {
          "base_uri": "https://localhost:8080/"
        },
        "id": "DFVdR2Z3jz0Z",
        "outputId": "ab20b6c6-815e-4aec-d715-343b59846f73"
      },
      "source": [
        "# Check tht generate data\n",
        "print('Independent:\\n', x, '\\nResponse:\\n', y)"
      ],
      "execution_count": 213,
      "outputs": [
        {
          "output_type": "stream",
          "text": [
            "Independent:\n",
            " [[11. 21.  5.]\n",
            " [11. 45. 20.]\n",
            " [35. 17. 38.]\n",
            " [47.  2.  3.]\n",
            " [39. 40.  6.]] \n",
            "Response:\n",
            " [[1.90909091]\n",
            " [2.36363636]\n",
            " [1.90909091]\n",
            " [2.81818182]]\n"
          ],
          "name": "stdout"
        }
      ]
    },
    {
      "cell_type": "markdown",
      "metadata": {
        "id": "1KYd4DNxwU1p"
      },
      "source": [
        "# What are the used parameters ?? using regression we can find them\n",
        "In order to obtain the OLS parameter estimates:\n",
        " $ \\hat{\\beta}_{OLS}=(X′X)^{-1}(X′Y) $\n"
      ]
    },
    {
      "cell_type": "code",
      "metadata": {
        "id": "kgTlPNU0HBRB"
      },
      "source": [
        "#B =np.linalg.pinv(x.T * x) * (x.transpose() * y) # for one D arrays or one element\n",
        "B = np.dot(np.linalg.pinv(np.dot(x.T, x)) , np.dot(x.T , y ) )"
      ],
      "execution_count": 191,
      "outputs": []
    },
    {
      "cell_type": "code",
      "metadata": {
        "colab": {
          "base_uri": "https://localhost:8080/"
        },
        "id": "-zIIKJkwewxQ",
        "outputId": "c7c55608-46e4-4d32-bb3b-50cf87d4251d"
      },
      "source": [
        "# Checkout the results of the closed form  B = (X'X)^-1 (X'Y)\n",
        "print( 'Original Coeffeicients:%.3f,%.3f,%.3f'% (Bo1, Bo2, Bo3) )\n",
        "print( 'Computed Coeffeicients:%.3f,%.3f,%.3f'%(B[0,0], B[1,0], B[2,0] ) )"
      ],
      "execution_count": 192,
      "outputs": [
        {
          "output_type": "stream",
          "text": [
            "Original Coeffeicients:-0.590,1.033,-0.096\n",
            "Computed Coeffeicients:-0.590,1.033,-0.096\n"
          ],
          "name": "stdout"
        }
      ]
    },
    {
      "cell_type": "markdown",
      "metadata": {
        "id": "SL74Dxintwtq"
      },
      "source": [
        "Remember the error added to the equation has influence to compute the parameters. "
      ]
    },
    {
      "cell_type": "code",
      "metadata": {
        "colab": {
          "base_uri": "https://localhost:8080/"
        },
        "id": "qim9udUWmPld",
        "outputId": "494e4aea-c9ef-428b-fc6d-06ff82692929"
      },
      "source": [
        "# example 2 using fixed values\n",
        "x2 = np.array([[1,1], [1,2], [1,1], [1,3]])\n",
        "y2  = np.array([[1.90909091],\n",
        "                [2.36363636],\n",
        "                [1.90909091],\n",
        "                [2.81818182]])\n"
      ],
      "execution_count": 206,
      "outputs": [
        {
          "output_type": "execute_result",
          "data": {
            "text/plain": [
              "array([[1.90909091],\n",
              "       [2.36363636],\n",
              "       [1.90909091],\n",
              "       [2.81818182]])"
            ]
          },
          "metadata": {
            "tags": []
          },
          "execution_count": 206
        }
      ]
    },
    {
      "cell_type": "code",
      "metadata": {
        "id": "D7KquIE7orxN"
      },
      "source": [
        "# compute the coeffecients (parameters) OLS estimator\n",
        "B = np.dot(np.linalg.inv(np.dot(x2.T, x2)), np.dot(x2.T, y2))"
      ],
      "execution_count": 207,
      "outputs": []
    },
    {
      "cell_type": "code",
      "metadata": {
        "colab": {
          "base_uri": "https://localhost:8080/"
        },
        "id": "03TUML_uoxTr",
        "outputId": "f207fa3f-10b0-4e3b-8ca1-edbf7bcbadf6"
      },
      "source": [
        "B"
      ],
      "execution_count": 208,
      "outputs": [
        {
          "output_type": "execute_result",
          "data": {
            "text/plain": [
              "array([[1.45454545],\n",
              "       [0.45454545]])"
            ]
          },
          "metadata": {
            "tags": []
          },
          "execution_count": 208
        }
      ]
    },
    {
      "cell_type": "code",
      "metadata": {
        "id": "DzBqv9-vugQp"
      },
      "source": [
        "# find response \n",
        "y3 = np.dot(x2, B)"
      ],
      "execution_count": 210,
      "outputs": []
    },
    {
      "cell_type": "code",
      "metadata": {
        "colab": {
          "base_uri": "https://localhost:8080/"
        },
        "id": "-eCOihWivUA6",
        "outputId": "eac2d3d4-4b15-44af-c1c5-c99d713e7025"
      },
      "source": [
        "y3"
      ],
      "execution_count": 211,
      "outputs": [
        {
          "output_type": "execute_result",
          "data": {
            "text/plain": [
              "array([[1.90909091],\n",
              "       [2.36363636],\n",
              "       [1.90909091],\n",
              "       [2.81818182]])"
            ]
          },
          "metadata": {
            "tags": []
          },
          "execution_count": 211
        }
      ]
    },
    {
      "cell_type": "code",
      "metadata": {
        "id": "JmCJ3VSDvXWq"
      },
      "source": [
        ""
      ],
      "execution_count": null,
      "outputs": []
    }
  ]
}